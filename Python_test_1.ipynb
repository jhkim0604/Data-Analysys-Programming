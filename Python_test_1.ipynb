{
  "nbformat": 4,
  "nbformat_minor": 0,
  "metadata": {
    "colab": {
      "provenance": [],
      "authorship_tag": "ABX9TyMumPIEn846VTJGAmwhBYuZ",
      "include_colab_link": true
    },
    "kernelspec": {
      "name": "python3",
      "display_name": "Python 3"
    },
    "language_info": {
      "name": "python"
    }
  },
  "cells": [
    {
      "cell_type": "markdown",
      "metadata": {
        "id": "view-in-github",
        "colab_type": "text"
      },
      "source": [
        "<a href=\"https://colab.research.google.com/github/jhkim0604/Data-Analysys-Programming/blob/main/Python_test_1.ipynb\" target=\"_parent\"><img src=\"https://colab.research.google.com/assets/colab-badge.svg\" alt=\"Open In Colab\"/></a>"
      ]
    },
    {
      "cell_type": "code",
      "execution_count": 1,
      "metadata": {
        "colab": {
          "base_uri": "https://localhost:8080/"
        },
        "id": "yd_tMBZN7vyc",
        "outputId": "9db9fc85-6e9b-4a45-faa7-d7e26c9223ce"
      },
      "outputs": [
        {
          "output_type": "stream",
          "name": "stdout",
          "text": [
            "Hello World!\n",
            "100\n",
            "300\n"
          ]
        }
      ],
      "source": [
        "print('Hello World!')\n",
        "print(100)\n",
        "print(100+200)"
      ]
    },
    {
      "cell_type": "markdown",
      "source": [
        "#간단한 파이썬 프로그램\n",
        "##1) 정수 덧셈 <h2>\n",
        "###2) 실수 덧셈 <h3>\n",
        "####3) 문자열 다루기"
      ],
      "metadata": {
        "id": "9ZEQqmKB-sm4"
      }
    },
    {
      "cell_type": "code",
      "source": [
        "a = 100.0\n",
        "b = 200\n",
        "d = '300'\n",
        "c = a + b\n",
        "print(a,b,c)\n",
        "print (d)"
      ],
      "metadata": {
        "colab": {
          "base_uri": "https://localhost:8080/"
        },
        "id": "7TME1Tnl8RNg",
        "outputId": "0822ed03-612b-4973-f9d3-592af5d3988d"
      },
      "execution_count": 4,
      "outputs": [
        {
          "output_type": "stream",
          "name": "stdout",
          "text": [
            "100.0 200 300.0\n",
            "300\n"
          ]
        }
      ]
    },
    {
      "cell_type": "code",
      "source": [
        "f = a + b\n",
        "print(f)\n",
        "d"
      ],
      "metadata": {
        "colab": {
          "base_uri": "https://localhost:8080/",
          "height": 53
        },
        "id": "ZN2sUHDu8gc2",
        "outputId": "85d8bda1-739c-4bc4-e6f0-0ff6bc038a11"
      },
      "execution_count": 8,
      "outputs": [
        {
          "output_type": "stream",
          "name": "stdout",
          "text": [
            "300.0\n"
          ]
        },
        {
          "output_type": "execute_result",
          "data": {
            "text/plain": [
              "'300'"
            ],
            "application/vnd.google.colaboratory.intrinsic+json": {
              "type": "string"
            }
          },
          "metadata": {},
          "execution_count": 8
        }
      ]
    },
    {
      "cell_type": "markdown",
      "source": [
        "설명"
      ],
      "metadata": {
        "id": "mni1qWwe_LOA"
      }
    }
  ]
}